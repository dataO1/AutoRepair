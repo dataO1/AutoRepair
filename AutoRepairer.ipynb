{
 "cells": [
  {
   "cell_type": "markdown",
   "metadata": {},
   "source": [
    "# Autorepairer Documentation"
   ]
  },
  {
   "cell_type": "markdown",
   "metadata": {},
   "source": [
    "## High-level description\n",
    "\n",
    "All of the code that i wrote for the automatic repairer is in the folder 'autorepair'.\n",
    "The tests are implemented in the test folder and the main.py was used to call the tests.\n",
    "\n",
    "The debug_and_repair() method is defined in ./autorepair/debugger.py.\n",
    "The only change i did, compared to the simple_debug_and_repair() from the project description, was the Mutator class.\n",
    "\n",
    "The new mutator class (AllMightySuperMutator) subclasses the ConditionMutator and if a node should be swapped it randomly picks one of severl custom defined swap methods (including the one from the original ConditionMutator).\n",
    "In each mutation i apply only one swap method, which again only apply one change at a time. This makes things a lot easier and more predictable.\n",
    "\n",
    "The main \n",
    "\n"
   ]
  }
 ],
 "metadata": {
  "kernelspec": {
   "display_name": "Python 3",
   "language": "python",
   "name": "python3"
  },
  "language_info": {
   "codemirror_mode": {
    "name": "ipython",
    "version": 3
   },
   "file_extension": ".py",
   "mimetype": "text/x-python",
   "name": "python",
   "nbconvert_exporter": "python",
   "pygments_lexer": "ipython3",
   "version": "3.7.9"
  }
 },
 "nbformat": 4,
 "nbformat_minor": 4
}
