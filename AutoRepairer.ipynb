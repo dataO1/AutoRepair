{
 "cells": [
  {
   "cell_type": "markdown",
   "metadata": {},
   "source": [
    "# Autorepairer Documentation"
   ]
  },
  {
   "cell_type": "markdown",
   "metadata": {},
   "source": [
    "## Description\n",
    "\n",
    "All of the code that i wrote for the automatic repairer is in the folder 'autorepair'.\n",
    "The tests are implemented in the test folder and the main.py was used to call the tests.\n",
    "\n",
    "The debug_and_repair() method is defined in ./autorepair/debugger.py.\n",
    "The only change i did, compared to the simple_debug_and_repair() from the project description, was the Mutator class.\n",
    "\n",
    "The new mutator class (AllMightySuperMutator in ./autorepair/mutators/allmighty_super_mutator.py) subclasses the ConditionMutator and if a node should be swapped it randomly picks and executes one of several custom swap methods (including the one from the original ConditionMutator).\n",
    "In each mutation i apply only one swap method, which again only apply one change at a time. This makes things a lot easier and more predictable.\n",
    "Also i rewrote the Visitor (AllMightyVisitor) that collects conditions and definitions in expectation, that i will need to collect more than that, but that was not the case. So this is actually the same as the visitor of the ConditionMutator."
   ]
  },
  {
   "cell_type": "code",
   "execution_count": null,
   "metadata": {},
   "outputs": [],
   "source": [
    "from random import Random\n",
    "import random\n",
    "import ast\n",
    "from ast import NodeVisitor\n",
    "import astor\n",
    "import copy\n",
    "from copy import deepcopy\n",
    "from debuggingbook.Repairer import StatementMutator, ConditionMutator\n",
    "\n",
    "rand = Random()\n",
    "rand.seed(42)"
   ]
  },
  {
   "cell_type": "code",
   "execution_count": null,
   "metadata": {},
   "outputs": [],
   "source": [
    "def get_all_mutation_sources(trees, tp=None):\n",
    "    \"\"\"Return all conditions from the AST (or AST list) `trees`.\n",
    "    If `tp` is given, return only elements of that type.\"\"\"\n",
    "    if not isinstance(trees, list):\n",
    "        assert isinstance(trees, ast.AST)\n",
    "        trees = [trees]\n",
    "\n",
    "    visitor = AllMightyVisitor()\n",
    "    for tree in trees:\n",
    "        visitor.visit(tree)\n",
    "    conditions = visitor.conditions\n",
    "    definitions = visitor.definitions\n",
    "    if tp is not None:\n",
    "        conditions = [c for c in conditions if isinstance(c, tp)]\n",
    "        definitions = [c for c in definitions if isinstance(c, tp)]\n",
    "\n",
    "    return conditions, definitions\n",
    "\n",
    "\n",
    "class AllMightyVisitor(NodeVisitor):\n",
    "    def __init__(self):\n",
    "        self.conditions = []\n",
    "        self.conditions_seen = set()\n",
    "        self.definitions = []\n",
    "        self.definitions_seen = set()\n",
    "        super().__init__()\n",
    "\n",
    "    def add_to(self,target_str, node, attr=None):\n",
    "        \"\"\" add the attribute of a node to the target list of seen attributes \"\"\"\n",
    "        target = getattr(self, target_str)\n",
    "        target_seen = getattr(self, target_str + \"_seen\")\n",
    "\n",
    "        if attr:\n",
    "            elems = getattr(node, attr, [])\n",
    "        else:\n",
    "            elems = node\n",
    "        if not isinstance(elems, list):\n",
    "            elems = [elems]\n",
    "        for elem in elems:\n",
    "            elem_str = astor.to_source(elem)\n",
    "            if elem_str not in target_seen:\n",
    "                target.append(elem)\n",
    "                target_seen.add(elem_str)\n",
    "\n",
    "    def visit_FunctionDef(self, node):\n",
    "        self.add_to('definitions', node)\n",
    "        return super().generic_visit(node)\n",
    "\n",
    "    def visit_AsyncFunctionDef(self, node):\n",
    "        self.visit_FunctionDef(node)\n",
    "\n",
    "    def visit_ClassDef(self, node):\n",
    "        self.visit_FunctionDef(node)\n",
    "\n",
    "    def visit_BoolOp(self, node):\n",
    "        self.add_to('conditions', node, 'values')\n",
    "        return super().generic_visit(node)\n",
    "\n",
    "    def visit_Name(self, node):\n",
    "        self.add_to('definitions', node)\n",
    "\n",
    "    def visit_UnaryOp(self, node):\n",
    "        if isinstance(node.op, ast.Not):\n",
    "            self.add_to('conditions', node, 'operand')\n",
    "        return super().generic_visit(node)\n",
    "\n",
    "    def generic_visit(self, node):\n",
    "        if hasattr(node, 'test'):\n",
    "            self.add_to('conditions', node, 'test')\n",
    "        return super().generic_visit(node)\n"
   ]
  },
  {
   "cell_type": "code",
   "execution_count": null,
   "metadata": {},
   "outputs": [],
   "source": [
    "class AllMightySuperMutator(ConditionMutator):\n",
    "    \"\"\"Mutate all kinds of stuff in an AST\"\"\"\n",
    "\n",
    "    def __init__(self, *args, **kwargs):\n",
    "        \"\"\"Constructor. Arguments are as with `StatementMutator` constructor.\"\"\"\n",
    "        super().__init__(*args, **kwargs)\n",
    "        self.conditions, self.definitions = get_all_mutation_sources(self.source)\n",
    "\n",
    "    def choose_condition(self):\n",
    "        \"\"\"Return a random condition from source.\"\"\"\n",
    "        return copy.deepcopy(random.choice(self.conditions))\n",
    "\n",
    "    def choose_name(self):\n",
    "        \"\"\" Return a random name from source. \"\"\"\n",
    "        return copy.deepcopy(random.choice(self.names))\n",
    "\n",
    "    def choose_bool_op(self):\n",
    "        return random.choice(['set', 'not', 'and', 'or'])\n"
   ]
  },
  {
   "cell_type": "markdown",
   "metadata": {},
   "source": [
    "## Swap methods\n"
   ]
  },
  {
   "cell_type": "code",
   "execution_count": null,
   "metadata": {},
   "outputs": [],
   "source": [
    "    def swap(self, node):\n",
    "        # i dont know why, but i need another random instance or things stop\n",
    "        # working\n",
    "        swap_func_name = \"swap_\" + rand.choice(['condition',\n",
    "            'one_off_error','two_occurrences', 'operator',\n",
    "            'definition_and_occurrences'])\n",
    "        swap_func = getattr(self, swap_func_name)\n",
    "        return swap_func(node)\n",
    "        #  return self.swap_condition(node)\n"
   ]
  },
  {
   "cell_type": "markdown",
   "metadata": {},
   "source": [
    "The main swap method picks one of the following defined swap_ methods at random and executes it:"
   ]
  },
  {
   "cell_type": "markdown",
   "metadata": {},
   "source": [
    "### swap_condition"
   ]
  },
  {
   "cell_type": "code",
   "execution_count": null,
   "metadata": {},
   "outputs": [],
   "source": [
    "    def swap_condition(self, node):\n",
    "        return ConditionMutator.swap(self, node)"
   ]
  },
  {
   "cell_type": "markdown",
   "metadata": {},
   "source": [
    "Calls the original ConditionMutator.swap() method."
   ]
  },
  {
   "cell_type": "markdown",
   "metadata": {},
   "source": [
    "### swap_one_off_error"
   ]
  },
  {
   "cell_type": "markdown",
   "metadata": {},
   "source": [
    "First of all, in order to find local definitions and occurrences of variables i implemented a node visitor, that collects all ast.Name instances classified by their type(load or store). We need this for a few of our swap methods, that substitude or swap variable names."
   ]
  },
  {
   "cell_type": "code",
   "execution_count": null,
   "metadata": {},
   "outputs": [],
   "source": [
    "class NameVisitor(NodeVisitor):\n",
    "\n",
    "    def __init__(self):\n",
    "        self.load = []\n",
    "        self.store = []\n",
    "\n",
    "    def visit_Name(self, node):\n",
    "        if isinstance(node.ctx,ast.Load)==True:\n",
    "            self.load.append(node)\n",
    "        if isinstance(node.ctx,ast.Store)==True:\n",
    "            self.store.append(node)\n",
    "\n",
    "        return super().generic_visit(node)\n",
    "    \n",
    "    \n",
    "    def swap_definition_and_occurrences(self, node):\n",
    "        node = deepcopy(node)\n",
    "        visitor = NameVisitor()\n",
    "        visitor.visit(node)\n",
    "        store = visitor.store\n",
    "        load = visitor.load\n",
    "        if not store or (len(load)<1):\n",
    "            return self.swap(node)\n",
    "        # get first definition in node\n",
    "        store_target = store[0] # take the first, not random\n",
    "        # filter out all occurrences of same name as store_target\n",
    "        load_targets = [name for name in load if name.id == store_target.id]\n",
    "        #  print(names)\n",
    "        new_id = \"fixed_by_autorepair_var\"\n",
    "        store_target.id = new_id\n",
    "        for load_target in load_targets:\n",
    "            load_target.id = new_id\n",
    "        return node"
   ]
  },
  {
   "cell_type": "markdown",
   "metadata": {},
   "source": [
    "Then, in order to make it simpler to actually swap the complete name instances without knowing what the overlying context was, i wrote some helper functions. \n",
    "\n",
    "mark_parents() recursively goes over the ast and marks at each node its parent. \n",
    "\n",
    "get_child_attr_name() returns the attribute name of a root node for a parent node. So if i have a name instance, that i know is child of some root node, but i dont know in what context that name appeared, this function finds that out. \n",
    "\n",
    "setattr() overwrites some child of a given root node with another object.\n",
    "\n",
    "This whole proces comes in handy, when i want to swap a child name instance of a root node with something else without having a handle to the parent of the name instance itself."
   ]
  },
  {
   "cell_type": "code",
   "execution_count": null,
   "metadata": {},
   "outputs": [],
   "source": [
    "class AllMightySuperMutator(ConditionMutator):\n",
    "\n",
    "    def _mark_parents(self, root):\n",
    "        for node in ast.walk(root):\n",
    "            for child in ast.iter_child_nodes(node):\n",
    "                child.parent = node\n",
    "                #  if  not type(child) in (int, float, bool, str):\n",
    "                self._mark_parents(child)\n",
    "        return node\n",
    "\n",
    "    def _get_child_attr_name(self, parent, child):\n",
    "        for _child in dir(parent):\n",
    "            if getattr(parent,_child) is child:\n",
    "                return _child\n",
    "\n",
    "    def _setattr(self, node, target, expr):\n",
    "        self._mark_parents(node)\n",
    "        attr = self._get_child_attr_name(target.parent, target)\n",
    "        #  print(attr)\n",
    "        if(attr):\n",
    "            setattr(target.parent, attr, expr)"
   ]
  },
  {
   "cell_type": "markdown",
   "metadata": {},
   "source": [
    "Now, what swap_one_off_error does is randomly picking one occurence of a variable x and increment or decrement it(Again randomly picked).\n",
    "So we generate the ast of an expression from \"n+1\" or \"n-1\" and change the name to the randomly picked variable.\n",
    "Then we substitute the name instance with this generated expression (the body of it, since its surrounded by an ast.Module instance and we only want the BoolOp value)."
   ]
  },
  {
   "cell_type": "code",
   "execution_count": null,
   "metadata": {},
   "outputs": [],
   "source": [
    "    def swap_one_off_error(self, node):\n",
    "        node = deepcopy(node)\n",
    "        # get all names, with ctx Load\n",
    "        visitor = NameVisitor()\n",
    "        visitor.visit(node)\n",
    "        names = visitor.load\n",
    "        if not names:\n",
    "            return self.swap(node)\n",
    "        # choose a random name from definitions to increment or decrement\n",
    "        target = rand.choice(names)\n",
    "        target_id = target.id\n",
    "        expr = rand.choice([\"n+1\",\"n-1\"])\n",
    "        expr = ast.parse(expr).body[0].value\n",
    "        expr.left.id = target_id\n",
    "        # now exchange n with the chosen name and replace name with that\n",
    "        self._setattr(node, target, expr)\n",
    "        return node\n"
   ]
  },
  {
   "cell_type": "markdown",
   "metadata": {},
   "source": [
    "This solves one off errors, for example in loop iterators or return statements etc."
   ]
  },
  {
   "cell_type": "markdown",
   "metadata": {},
   "source": [
    "### swap_definition_and_occurrences\n",
    " This swap method takes the first definition of some local variable and swaps the id of it and all its occurrences by something new, in this case \"fixed_by_autorepair_var\"."
   ]
  },
  {
   "cell_type": "code",
   "execution_count": null,
   "metadata": {},
   "outputs": [],
   "source": [
    "    def swap_definition_and_occurrences(self, node):\n",
    "        node = deepcopy(node)\n",
    "        visitor = NameVisitor()\n",
    "        visitor.visit(node)\n",
    "        store = visitor.store\n",
    "        load = visitor.load\n",
    "        if not store or (len(load)<1):\n",
    "            return self.swap(node)\n",
    "        # get first definition in node\n",
    "        store_target = store[0] # take the first, not random\n",
    "        # filter out all occurrences of same name as store_target\n",
    "        load_targets = [name for name in load if name.id == store_target.id]\n",
    "        #  print(names)\n",
    "        new_id = \"fixed_by_autorepair_var\"\n",
    "        store_target.id = new_id\n",
    "        for load_target in load_targets:\n",
    "            load_target.id = new_id\n",
    "        return node\n"
   ]
  },
  {
   "cell_type": "markdown",
   "metadata": {},
   "source": [
    "As in test factorial2(), this takes care of variables that get overwritten by local variables with the same name by mistake."
   ]
  },
  {
   "cell_type": "markdown",
   "metadata": {},
   "source": [
    "### swap_two_occurrences\n",
    "\n",
    "This swap method simply picks two names at random and swaps their id.\n",
    "It is important that we actually pick two different names, or the outcome will be the same as before, which slows down the repairer."
   ]
  },
  {
   "cell_type": "code",
   "execution_count": null,
   "metadata": {},
   "outputs": [],
   "source": [
    "    def swap_two_occurrences(self, node):\n",
    "        #  if isinstance(node, ast.Return):\n",
    "            #  return self.swap(node)\n",
    "        node = deepcopy(node)\n",
    "        #  # get all names, with ctx Load\n",
    "        visitor = NameVisitor()\n",
    "        visitor.visit(node)\n",
    "        names = visitor.load\n",
    "        #  #  print(names)\n",
    "        #  #  print(\"COLLECTED ALL NAMES\")\n",
    "        if not names or len(names) < 2:\n",
    "            return self.swap(node)\n",
    "        #  print(\"before:\")\n",
    "        #  print( astor.to_source(node))\n",
    "        #  print(f\"names:{[name.id for name in names]}\")\n",
    "        target1 = rand.choice(names)\n",
    "        target2 = rand.choice(names)\n",
    "        # as long as drawing the same name redraw\n",
    "        while (target1.id == target2.id):\n",
    "            target2 = rand.choice(names)\n",
    "        # swap the two names in the node\n",
    "        h = deepcopy(target1.id)\n",
    "        target1.id = target2.id\n",
    "        target2.id = h\n",
    "        #  print(\"after:\")\n",
    "        #  print( astor.to_source(node))\n",
    "        return node\n"
   ]
  },
  {
   "cell_type": "markdown",
   "metadata": {},
   "source": [
    "### swap_operator\n",
    "\n",
    "This swap method randomly picks one operator (like +, -, \\*) and substitutes it with another operator.\n",
    "For this there is a simple OperatorVisitor, that returns all instances of operators from binary operations and augmented assignments in a root node."
   ]
  },
  {
   "cell_type": "code",
   "execution_count": null,
   "metadata": {},
   "outputs": [],
   "source": [
    "class OperatorVisitor(NodeVisitor):\n",
    "\n",
    "    def __init__(self):\n",
    "        self.operators = []\n",
    "\n",
    "    def visit_BinOp(self, node):\n",
    "        self.operators.append(node)\n",
    "        return super().generic_visit(node)\n",
    "\n",
    "    def visit_AugAssign(self, node):\n",
    "        return self.visit_BinOp(node)\n"
   ]
  },
  {
   "cell_type": "code",
   "execution_count": null,
   "metadata": {},
   "outputs": [],
   "source": [
    "    def swap_operator(self, node):\n",
    "        node = deepcopy(node)\n",
    "        visitor = OperatorVisitor()\n",
    "        visitor.visit(node)\n",
    "        operators = visitor.operators\n",
    "        if not operators:\n",
    "            return self.swap(node)\n",
    "        # choose a random operator to swap\n",
    "        target = rand.choice(operators)\n",
    "        operators = [ast.Add ,ast.Mult]\n",
    "        target.op = rand.choice(operators)()\n",
    "        return node\n"
   ]
  },
  {
   "cell_type": "code",
   "execution_count": null,
   "metadata": {},
   "outputs": [],
   "source": []
  },
  {
   "cell_type": "code",
   "execution_count": null,
   "metadata": {},
   "outputs": [],
   "source": []
  },
  {
   "cell_type": "code",
   "execution_count": null,
   "metadata": {},
   "outputs": [],
   "source": []
  },
  {
   "cell_type": "code",
   "execution_count": null,
   "metadata": {},
   "outputs": [],
   "source": []
  },
  {
   "cell_type": "code",
   "execution_count": null,
   "metadata": {},
   "outputs": [],
   "source": []
  },
  {
   "cell_type": "code",
   "execution_count": null,
   "metadata": {},
   "outputs": [],
   "source": []
  },
  {
   "cell_type": "code",
   "execution_count": null,
   "metadata": {},
   "outputs": [],
   "source": []
  },
  {
   "cell_type": "code",
   "execution_count": null,
   "metadata": {},
   "outputs": [],
   "source": []
  },
  {
   "cell_type": "code",
   "execution_count": null,
   "metadata": {},
   "outputs": [],
   "source": []
  }
 ],
 "metadata": {
  "kernelspec": {
   "display_name": "Python 3",
   "language": "python",
   "name": "python3"
  },
  "language_info": {
   "codemirror_mode": {
    "name": "ipython",
    "version": 3
   },
   "file_extension": ".py",
   "mimetype": "text/x-python",
   "name": "python",
   "nbconvert_exporter": "python",
   "pygments_lexer": "ipython3",
   "version": "3.7.9"
  }
 },
 "nbformat": 4,
 "nbformat_minor": 4
}
